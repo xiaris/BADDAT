{
 "cells": [
  {
   "cell_type": "code",
   "execution_count": null,
   "id": "92e22378-6667-41e9-b1e3-c2e7e990df8d",
   "metadata": {
    "execution": {
     "iopub.execute_input": "2025-03-30T12:58:10.295555Z",
     "iopub.status.busy": "2025-03-30T12:58:10.295463Z",
     "iopub.status.idle": "2025-03-30T12:58:15.780074Z",
     "shell.execute_reply": "2025-03-30T12:58:15.779359Z"
    }
   },
   "outputs": [],
   "source": [
    "import sys\n",
    "import pandas\n",
    "import matplotlib.pyplot as plt\n",
    "import numpy as np\n",
    "from matplotlib import gridspec\n",
    "import corner\n",
    "from matplotlib.ticker import AutoMinorLocator\n",
    "from matplotlib.ticker import MultipleLocator\n",
    "from sklearn.linear_model import BayesianRidge\n",
    "\n",
    "sys.path.append(\"../DependenceFitter-V2\")"
   ]
  },
  {
   "cell_type": "code",
   "execution_count": null,
   "id": "4ed519db-c779-4dc3-8145-733e801a3028",
   "metadata": {
    "execution": {
     "iopub.execute_input": "2025-03-30T12:58:15.784949Z",
     "iopub.status.busy": "2025-03-30T12:58:15.784719Z",
     "iopub.status.idle": "2025-03-30T12:58:20.365223Z",
     "shell.execute_reply": "2025-03-30T12:58:20.364845Z"
    }
   },
   "outputs": [],
   "source": [
    "from DependenceFitter import DependenceFitter1,DependenceFitter2\n",
    "from DependenceFitter import median_and_error,get_computed_jpm, tau0_to_tau1\n",
    "JPM, rho_iter = get_computed_jpm()"
   ]
  },
  {
   "cell_type": "code",
   "execution_count": null,
   "id": "52a97f96-ac8c-40ae-8254-fe05d655fcce",
   "metadata": {
    "execution": {
     "iopub.execute_input": "2025-03-30T12:58:20.370077Z",
     "iopub.status.busy": "2025-03-30T12:58:20.369809Z",
     "iopub.status.idle": "2025-03-30T12:58:20.713354Z",
     "shell.execute_reply": "2025-03-30T12:58:20.712757Z"
    }
   },
   "outputs": [],
   "source": [
    "df_burke = pandas.read_pickle(\"df_burke.pkl\")\n",
    "df_ren = pandas.read_pickle(\"df_ren.pkl\")\n",
    "df_combined = pandas.concat([df_burke,df_ren], axis=0)\n",
    "df_combined = df_combined.reset_index(drop=True)"
   ]
  },
  {
   "cell_type": "code",
   "execution_count": null,
   "id": "579f1344-5ec2-4959-995f-850b43339106",
   "metadata": {
    "execution": {
     "iopub.execute_input": "2025-03-30T12:58:20.716883Z",
     "iopub.status.busy": "2025-03-30T12:58:20.716690Z",
     "iopub.status.idle": "2025-03-30T12:58:20.736845Z",
     "shell.execute_reply": "2025-03-30T12:58:20.736295Z"
    }
   },
   "outputs": [],
   "source": [
    "def dependence_fit_thread(tau_out, Delta_AIC_low, Delta_AIC_hi, SNR, df, dependence_code, mask_code=0, nfit=2):    \n",
    "    if mask_code == 0:\n",
    "        mask_df = (df.Delta_AIC_low >1) & (df.Delta_AIC_hi >1) & (df.baseline/(df.ncadence-1) < 10**df.tau_mle)\n",
    "        tau_out = tau_out[mask_df,:]\n",
    "        Delta_AIC_low = Delta_AIC_low[mask_df,:]\n",
    "        Delta_AIC_hi = Delta_AIC_hi[mask_df,:]\n",
    "        SNR = SNR[mask_df,:]\n",
    "        ncadence = df.ncadence.to_numpy()[mask_df]\n",
    "        baseline = df.baseline.to_numpy()[mask_df]\n",
    "        redshift_array = df.z.to_numpy()[mask_df]\n",
    "        mask_array = ((Delta_AIC_low.T>1) & (Delta_AIC_hi.T>1) & (baseline/(ncadence-1) < 10**tau_out.T)).T\n",
    "        choice = (np.sum(mask_array, axis=1) > 0)\n",
    "    if mask_code == 1:\n",
    "        mask_df = (df.Delta_AIC_low >1) & (df.Delta_AIC_hi >1) & (df.baseline/(df.ncadence-1) < 10**df.tau_mle) & (1e3*df.baseline > 10**df.tau_mle)\n",
    "        tau_out = tau_out[mask_df,:]\n",
    "        Delta_AIC_low = Delta_AIC_low[mask_df,:]\n",
    "        Delta_AIC_hi = Delta_AIC_hi[mask_df,:]\n",
    "        SNR = SNR[mask_df,:]\n",
    "        ncadence = df.ncadence.to_numpy()[mask_df]\n",
    "        baseline = df.baseline.to_numpy()[mask_df]\n",
    "        redshift_array = df.z.to_numpy()[mask_df]\n",
    "        mask_array = ((Delta_AIC_low.T>1) & (Delta_AIC_hi.T>1) & (baseline/(ncadence-1) < 10**tau_out.T)).T\n",
    "        choice = (np.sum(mask_array, axis=1) > 0)\n",
    "    if mask_code == 2:\n",
    "        mask_df = (df.Delta_AIC_low >1) & (df.Delta_AIC_hi >1) &  (df.baseline/(df.ncadence-1) < 10**df.tau_mle) & (df.baseline > 10**df.tau_mle)\n",
    "        tau_out = tau_out[mask_df,:]\n",
    "        Delta_AIC_low = Delta_AIC_low[mask_df,:]\n",
    "        Delta_AIC_hi = Delta_AIC_hi[mask_df,:]\n",
    "        SNR = SNR[mask_df,:]\n",
    "        ncadence = df.ncadence.to_numpy()[mask_df]\n",
    "        baseline = df.baseline.to_numpy()[mask_df]\n",
    "        redshift_array = df.z.to_numpy()[mask_df]\n",
    "        mask_array = ((Delta_AIC_low.T>1) &(Delta_AIC_hi.T>1)& (baseline/(ncadence-1) < 10**tau_out.T) & (baseline > 10**tau_out.T)).T\n",
    "        choice = (np.sum(mask_array, axis=1) > 0)\n",
    "    if mask_code == 3:\n",
    "        mask_df = (df.Delta_AIC_low >1) & (df.Delta_AIC_hi >1) &  (df.baseline/(df.ncadence-1) < 10**df.tau_mle) & (0.1*df.baseline > 10**df.tau_mle)\n",
    "        tau_out = tau_out[mask_df,:]\n",
    "        Delta_AIC_low = Delta_AIC_low[mask_df,:]\n",
    "        Delta_AIC_hi = Delta_AIC_hi[mask_df,:]\n",
    "        SNR = SNR[mask_df,:]\n",
    "        ncadence = df.ncadence.to_numpy()[mask_df]\n",
    "        baseline = df.baseline.to_numpy()[mask_df]\n",
    "        redshift_array = df.z.to_numpy()[mask_df]\n",
    "        mask_array = ((Delta_AIC_low.T>1) &(Delta_AIC_hi.T>1)& (baseline/(ncadence-1)  < 10**tau_out.T) & (0.1*baseline > 10**tau_out.T)).T\n",
    "        choice = (np.sum(mask_array, axis=1) > 0)\n",
    "    if mask_code == 4:\n",
    "        mask_df = (df.Delta_AIC_low >1) & (df.Delta_AIC_hi >1) & (df.baseline/(df.ncadence-1) < 10**df.tau_mle) & (df.SNR_mle >1 )\n",
    "        tau_out = tau_out[mask_df,:]\n",
    "        Delta_AIC_low = Delta_AIC_low[mask_df,:]\n",
    "        Delta_AIC_hi = Delta_AIC_hi[mask_df,:]\n",
    "        SNR = SNR[mask_df,:]\n",
    "        ncadence = df.ncadence.to_numpy()[mask_df]\n",
    "        baseline = df.baseline.to_numpy()[mask_df]\n",
    "        redshift_array = df.z.to_numpy()[mask_df]\n",
    "        mask_array = ((Delta_AIC_low.T>1) &(Delta_AIC_hi.T>1)& (baseline/(ncadence-1)  < 10**tau_out.T) & (SNR.T>1)).T\n",
    "        choice = (np.sum(mask_array, axis=1) > 0)\n",
    "    if mask_code == 5:\n",
    "        mask_df = (df.Delta_AIC_low >1) & (df.Delta_AIC_hi >1)\n",
    "        tau_out = tau_out[mask_df,:]\n",
    "        Delta_AIC_low = Delta_AIC_low[mask_df,:]\n",
    "        Delta_AIC_hi = Delta_AIC_hi[mask_df,:]\n",
    "        SNR = SNR[mask_df,:]\n",
    "        ncadence = df.ncadence.to_numpy()[mask_df]\n",
    "        baseline = df.baseline.to_numpy()[mask_df]\n",
    "        redshift_array = df.z.to_numpy()[mask_df]\n",
    "        mask_array = ((Delta_AIC_low.T>1) & (Delta_AIC_hi.T>1)).T\n",
    "        choice = (np.sum(mask_array, axis=1) > 0)    \n",
    "        \n",
    "    if dependence_code == 0 :\n",
    "        x = df.log_M_BH.to_numpy()[mask_df][choice]\n",
    "        xerr = df.log_M_BH_e.to_numpy()[mask_df][choice]\n",
    "        mask_int = 10**(0.5*x-1.7) < 0.1*baseline[choice]\n",
    "    if dependence_code == 1 :\n",
    "        x = df.log_M_BH.to_numpy()[mask_df][choice]\n",
    "        xerr = df.log_M_BH_e.to_numpy()[mask_df][choice]\n",
    "        mask_int = 10**(0.38*x-1.0) < 0.1*baseline[choice]\n",
    "    if dependence_code == 2 :\n",
    "        x = df.log_L_bol.to_numpy()[mask_df][choice]\n",
    "        xerr = df.log_L_bol_e.to_numpy()[mask_df][choice]\n",
    "        y = df.wl_rest.to_numpy()[mask_df][choice]\n",
    "        yerr = 0.\n",
    "        mask_int = 10**(0.72*x+ 1.19*y- 34.2) < 0.1*baseline[choice]    \n",
    "\n",
    "    Coefs_tuple = []\n",
    "    ind_array = np.array([np.array([np.random.choice(np.where(mask_array[choice][j,:])[0]) for j in range(sum(choice))]) for _ in range(nfit)])\n",
    "    for i in range(nfit):\n",
    "        tau_i = tau_out[choice][np.arange(sum(choice)), ind_array[i]]\n",
    "        if dependence_code <=1:\n",
    "            Fitter = DependenceFitter1(tau_i, baseline[choice], ncadence[choice], x, xerr, redshift=redshift_array[choice])\n",
    "        if dependence_code ==2:\n",
    "            Fitter = DependenceFitter2(tau_i, baseline[choice], ncadence[choice], x, y, xerr,yerr, redshift=redshift_array[choice])\n",
    "        flat_samples = Fitter.fit()\n",
    "\n",
    "        mask_good = 10**tau_i < 0.1*baseline[choice]\n",
    "\n",
    "        if dependence_code <=1: \n",
    "            Coefs_tuple.append(np.array([\n",
    "                *np.median(flat_samples, axis=0),\n",
    "                *np.polyfit(x, (tau_i - np.log10(1+redshift_array[choice])), deg=1),\n",
    "                *np.polyfit(x[mask_good], (tau_i - np.log10(1+redshift_array[choice]))[mask_good], deg=1),\n",
    "                *np.polyfit(x[mask_int], (tau_i - np.log10(1+redshift_array[choice]))[mask_int], deg=1)]))\n",
    "\n",
    "        if dependence_code ==2:\n",
    "            model0 = BayesianRidge();\n",
    "            model0.fit(np.column_stack((x,y)), tau_i- np.log10(1+redshift_array[choice]))\n",
    "            model1 = BayesianRidge();\n",
    "            model1.fit(np.column_stack((x[mask_good],y[mask_good] )), (tau_i- np.log10(1+redshift_array[choice]))[mask_good])\n",
    "            model2 = BayesianRidge();\n",
    "            model2.fit(np.column_stack((x[mask_int],y[mask_int])), (tau_i- np.log10(1+redshift_array[choice]))[mask_int])\n",
    "            \n",
    "            Coefs_tuple.append(np.array([\n",
    "                *np.median(flat_samples, axis=0),\n",
    "                *model0.coef_, model0.intercept_,\n",
    "                *model1.coef_, model1.intercept_,\n",
    "                *model2.coef_, model2.intercept_]))\n",
    "            \n",
    "    return Coefs_tuple"
   ]
  },
  {
   "cell_type": "code",
   "execution_count": null,
   "id": "1e4b19fd-0571-4d31-81cb-399e799fcbdb",
   "metadata": {
    "execution": {
     "iopub.execute_input": "2025-03-30T12:58:20.738365Z",
     "iopub.status.busy": "2025-03-30T12:58:20.738228Z",
     "iopub.status.idle": "2025-03-30T12:58:22.580468Z",
     "shell.execute_reply": "2025-03-30T12:58:22.579949Z"
    }
   },
   "outputs": [],
   "source": [
    "df_mock = pandas.read_pickle(\"df_mock_25noise.pkl\")\n",
    "df_mock"
   ]
  },
  {
   "cell_type": "code",
   "execution_count": null,
   "id": "82b171de-c9cf-4e21-87b8-b05e184165b2",
   "metadata": {
    "execution": {
     "iopub.execute_input": "2025-03-30T12:58:22.582073Z",
     "iopub.status.busy": "2025-03-30T12:58:22.581932Z",
     "iopub.status.idle": "2025-04-01T01:35:05.722536Z",
     "shell.execute_reply": "2025-04-01T01:35:05.721898Z"
    }
   },
   "outputs": [],
   "source": [
    "Coefs_Sum = []\n",
    "for mask_code in [0,1,2,3,4,5]:\n",
    "    for df_name in [\"burke\",\"ren\",\"combined\"]:\n",
    "        df=eval(f\"df_{df_name}\")\n",
    "        for dependence_code in range(3):\n",
    "            df_imock = df_mock[(df_mock.df_name == df_name) & (df_mock.dependence_code == dependence_code)]\n",
    "            tau_out = df_imock.iloc[0].tau_out\n",
    "            Delta_AIC_low = df_imock.iloc[0].Delta_AIC_low\n",
    "            Delta_AIC_hi = df_imock.iloc[0].Delta_AIC_hi\n",
    "            SNR = df_imock.iloc[0].SNR\n",
    "            Coefs_Sum.append(dependence_fit_thread(tau_out, Delta_AIC_low, Delta_AIC_hi, SNR, df=df, nfit=100, dependence_code=dependence_code, mask_code=mask_code))\n",
    "    np.save(\"Coefs_Sum.npy\", np.array(Coefs_Sum, dtype=object))"
   ]
  },
  {
   "cell_type": "code",
   "execution_count": null,
   "id": "711ed7f5-b751-4670-8811-dc64d31a31d8",
   "metadata": {
    "execution": {
     "iopub.execute_input": "2025-04-01T01:35:05.727198Z",
     "iopub.status.busy": "2025-04-01T01:35:05.726467Z",
     "iopub.status.idle": "2025-04-01T01:35:05.729563Z",
     "shell.execute_reply": "2025-04-01T01:35:05.729274Z"
    }
   },
   "outputs": [],
   "source": [
    "# plt.hist(np.vstack(Coefs_Sum[0])[:,0])"
   ]
  }
 ],
 "metadata": {
  "kernelspec": {
   "display_name": "Python 3 (ipykernel)",
   "language": "python",
   "name": "python3"
  },
  "language_info": {
   "codemirror_mode": {
    "name": "ipython",
    "version": 3
   },
   "file_extension": ".py",
   "mimetype": "text/x-python",
   "name": "python",
   "nbconvert_exporter": "python",
   "pygments_lexer": "ipython3",
   "version": "3.12.2"
  }
 },
 "nbformat": 4,
 "nbformat_minor": 5
}
